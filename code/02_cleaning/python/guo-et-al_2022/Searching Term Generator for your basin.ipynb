{
 "cells": [
  {
   "cell_type": "code",
   "execution_count": 73,
   "metadata": {},
   "outputs": [],
   "source": [
    "import numpy as np\n",
    "special_country_dict=np.load('special_country_dict.npy').item()\n",
    "special_basin_dict=np.load('special_basin_dict.npy').item()\n",
    "basin_country_dict=np.load('basin_country_dict.npy').item()"
   ]
  },
  {
   "cell_type": "code",
   "execution_count": 74,
   "metadata": {},
   "outputs": [],
   "source": [
    "def searching_terms_tailor(basin_name):\n",
    "    def str1_tailor(basin_name):\n",
    "        str1 = ''\n",
    "        if basin_name in special_basin_dict: #test whether the basin is a special basin\n",
    "            special_basin_nick_name = special_basin_dict[basin_name]\n",
    "            if isinstance(special_basin_nick_name,list): \n",
    "                for name in special_basin_nick_name:\n",
    "\n",
    "                    if ' ' in name:\n",
    "                        str1 = str1 + 'atleast5(\"%s\")'%name + ' OR' + ' '\n",
    "                    else:\n",
    "                        str1 = str1 + 'atleast5(%s)'%name + ' OR' + ' '\n",
    "                str1 = str1[:-4] \n",
    "                str1 = '(' + str1 + ')'+ ' AND (' \n",
    "            else:\n",
    "                if ' ' in special_basin_nick_name:\n",
    "                        str1 = 'atleast5(\"%s\") AND ('%special_basin_nick_name\n",
    "                else:\n",
    "                        str1 = 'atleast5(%s) AND ('%special_basin_nick_name            \n",
    "        else:  \n",
    "            if ' ' in basin_name:\n",
    "                str1 = 'atleast5(\"%s\") AND (' % (basin_name) \n",
    "            else:\n",
    "                str1 = 'atleast5(%s) AND (' % (basin_name)  \n",
    "        return str1\n",
    "    \n",
    "    \n",
    "  \n",
    "    # generate searching terms for riparian countries in the basin\n",
    "    def str2_tailor(basin_name):\n",
    "        str2 = ''\n",
    "        for country in basin_country_dict[basin_name]:\n",
    "            if country in special_country_dict: \n",
    "                str22 = ''\n",
    "                special_country_nick_name = special_country_dict[country]\n",
    "                if isinstance(special_country_nick_name,list): \n",
    "                    for name in special_country_nick_name:\n",
    "\n",
    "                            if ' ' in name:\n",
    "                                str22 = str22 + 'atleast2(\"%s\")'%name + ' OR' + ' '\n",
    "                            else:\n",
    "                                str22 = str22 + 'atleast2(%s)'%name + ' OR' + ' '\n",
    "\n",
    "                else:\n",
    "                    if ' ' in special_country_nick_name:\n",
    "                        str22 = str22 + 'atleast2(\"%s\")'%special_country_nick_name + ' OR' + ' '\n",
    "                    else:\n",
    "                        str22 = str22 + 'atleast2(%s)'%special_country_nick_name + ' OR' + ' ' \n",
    "\n",
    "\n",
    "                str2 = str2 + str22\n",
    "\n",
    "\n",
    "\n",
    "            else: \n",
    "                if ' ' in country:\n",
    "                    str2 = str2 + 'atleast2(\"%s\")'%country + ' OR' + ' '\n",
    "                else:\n",
    "                    str2 = str2 + 'atleast2(%s)'%country + ' OR' + ' '\n",
    "\n",
    "        str2 = str2[:-4] \n",
    "        return str2\n",
    "        \n",
    "        \n",
    "    def str3_tailor(basin_name):    \n",
    "        if 'Sea' in basin_name:\n",
    "            str3 =') AND (atleast3(water) OR atleast3(river) OR lake OR dam OR stream OR tributary OR diversion OR irrigation OR pollution OR \"water quality\" OR flood OR drought* OR channel OR canal OR fish OR \"fish rights\" OR hydroelect* OR hydropower OR reservoir OR \"water allocation\" OR \"water sharing\" OR \"water rights\" OR \"water diplomacy\" OR \"water hegemony\") AND (treaty OR agree* OR convention OR \"framework directive\" OR negotiat* OR resolution OR commission OR secretariat OR \"joint management\" OR \"basin management\" OR peace OR \"accord\" OR \"peace accord\" OR settle* OR cooperat* OR collaborat* OR bilateral OR multilateral OR dispute* OR conflict* OR disagree* OR sanction* OR war OR troops OR \"letter of protest\" OR hostility OR \"shots fired\" OR boycott OR protest* ) AND NOT (ocean OR navigat* OR nuclear OR \"water cannon\" OR \"light water reactor\" OR \"mineral water\" OR \"hold water\" OR \"cold water\" OR \"hot water\" OR \"water canister\" OR \"water tight\" OR \"water down*\" OR \"flood of refugees\" OR oil OR drugs OR \"a stream of\" OR \"flood of\")'\n",
    "        elif 'Lake' in basin_name:\n",
    "            str3 =') AND (atleast3(water) OR atleast3(lake) OR river OR dam OR stream OR tributary OR diversion OR irrigation OR pollution OR \"water quality\" OR flood OR drought* OR channel OR canal OR fish OR \"fish rights\" OR hydroelect* OR hydropower OR reservoir OR \"water allocation\" OR \"water sharing\" OR \"water rights\" OR \"water diplomacy\" OR \"water hegemony\") AND (treaty OR agree* OR convention OR \"framework directive\" OR negotiat* OR resolution OR commission OR secretariat OR \"joint management\" OR \"basin management\" OR peace OR \"accord\" OR \"peace accord\" OR settle* OR cooperat* OR collaborat* OR bilateral OR multilateral OR dispute* OR conflict* OR disagree* OR sanction* OR war OR troops OR \"letter of protest\" OR hostility OR \"shots fired\" OR boycott OR protest* ) AND NOT (sea OR ocean OR navigat* OR nuclear OR \"water cannon\" OR \"light water reactor\" OR \"mineral water\" OR \"hold water\" OR \"cold water\" OR \"hot water\" OR \"water canister\" OR \"water tight\" OR \"water down*\" OR \"flood of refugees\" OR oil OR drugs OR \"a stream of\" OR \"flood of\")'\n",
    "        \n",
    "        else: \n",
    "            str3 =') AND (atleast3(water) OR atleast3(river) OR lake OR dam OR stream OR tributary OR diversion OR irrigation OR pollution OR \"water quality\" OR flood OR drought* OR channel OR canal OR fish OR \"fish rights\" OR hydroelect* OR hydropower OR reservoir OR \"water allocation\" OR \"water sharing\" OR \"water rights\" OR \"water diplomacy\" OR \"water hegemony\") AND (treaty OR agree* OR convention OR \"framework directive\" OR negotiat* OR resolution OR commission OR secretariat OR \"joint management\" OR \"basin management\" OR peace OR \"accord\" OR \"peace accord\" OR settle* OR cooperat* OR collaborat* OR bilateral OR multilateral OR dispute* OR conflict* OR disagree* OR sanction* OR war OR troops OR \"letter of protest\" OR hostility OR \"shots fired\" OR boycott OR protest* ) AND NOT (sea OR ocean OR navigat* OR nuclear OR \"water cannon\" OR \"light water reactor\" OR \"mineral water\" OR \"hold water\" OR \"cold water\" OR \"hot water\" OR \"water canister\" OR \"water tight\" OR \"water down*\" OR \"flood of refugees\" OR oil OR drugs OR \"a stream of\" OR \"flood of\")'\n",
    "        \n",
    "        return str3\n",
    "    def str4_tailor(basin_name): #a strong contraint for basin name is same as one of the countries' names in the basin  \n",
    "        if basin_name in basin_country_dict[basin_name] or basin_name in ['Colorado','Columbia','Don','Fraser','Mississippi','Whiting','Yukon','Nile']: \n",
    "            str4 = '(\"%s River\" OR \"%s Basin\" OR \"%s Water\") AND ' %(basin_name, basin_name,basin_name)\n",
    "            print(str4)\n",
    "        elif basin_name == 'Congo/Zaire':\n",
    "            str4 = '(\"Congo River\" OR \"Congo Basin\" OR \"Congo Water\" OR \"Zaire River\" OR \"Zaire Basin\" OR \"Zaire Water\") AND ' \n",
    "\n",
    "        elif basin_name == 'Nelson-Saskatchewan':\n",
    "            str4 = '(\"Nelson River\" OR \"Nelson Basin\" OR \"Nelson Water\" OR \"Saskatchewan River\" OR \"Saskatchewan Basin\" OR \"Saskatchewan Water\") AND ' \n",
    "\n",
    "        elif basin_name == 'Red/Song Hong':\n",
    "            str4 = '(\"Red River\" OR \"Red Basin\" OR \"Red Water\" OR \"Song Hong River\" OR \"Song Hong Basin\" OR \"Song Hong Water\") AND ' \n",
    "\n",
    "        else:\n",
    "            str4 = ''\n",
    "        return str4\n",
    "\n",
    "    if str4_tailor(basin_name) == '': #if no extra constraints added，searching terms are the sum of str1, str2 and str3\n",
    "         searching_terms = str1_tailor(basin_name) + str2_tailor(basin_name) + str3_tailor(basin_name)\n",
    "    else:#if strong constraints added，searching terms are the sum of str1, str2, str3 and str4\n",
    "         searching_terms = str4_tailor(basin_name) + str1_tailor(basin_name) + str2_tailor(basin_name) + str3_tailor(basin_name)\n",
    "    return searching_terms\n"
   ]
  },
  {
   "cell_type": "markdown",
   "metadata": {},
   "source": [
    "# input your basin name"
   ]
  },
  {
   "cell_type": "code",
   "execution_count": 76,
   "metadata": {
    "scrolled": true
   },
   "outputs": [
    {
     "data": {
      "text/plain": [
       "'atleast5(Mekong) AND (atleast2(China) OR atleast2(Cambodia) OR atleast2(Lao) OR atleast2(Laos) OR atleast2(Myanmar) OR atleast2(Burma) OR atleast2(Thailand) OR atleast2(\"Viet Nam\") OR atleast2(Vietnam)) AND (atleast3(water) OR atleast3(river) OR lake OR dam OR stream OR tributary OR diversion OR irrigation OR pollution OR \"water quality\" OR flood OR drought* OR channel OR canal OR fish OR \"fish rights\" OR hydroelect* OR hydropower OR reservoir OR \"water allocation\" OR \"water sharing\" OR \"water rights\" OR \"water diplomacy\" OR \"water hegemony\") AND (treaty OR agree* OR convention OR \"framework directive\" OR negotiat* OR resolution OR commission OR secretariat OR \"joint management\" OR \"basin management\" OR peace OR \"accord\" OR \"peace accord\" OR settle* OR cooperat* OR collaborat* OR bilateral OR multilateral OR dispute* OR conflict* OR disagree* OR sanction* OR war OR troops OR \"letter of protest\" OR hostility OR \"shots fired\" OR boycott OR protest* ) AND NOT (sea OR ocean OR navigat* OR nuclear OR \"water cannon\" OR \"light water reactor\" OR \"mineral water\" OR \"hold water\" OR \"cold water\" OR \"hot water\" OR \"water canister\" OR \"water tight\" OR \"water down*\" OR \"flood of refugees\" OR oil OR drugs OR \"a stream of\" OR \"flood of\")'"
      ]
     },
     "execution_count": 76,
     "metadata": {},
     "output_type": "execute_result"
    }
   ],
   "source": [
    "searching_terms_tailor('Mekong')"
   ]
  },
  {
   "cell_type": "code",
   "execution_count": null,
   "metadata": {},
   "outputs": [],
   "source": []
  },
  {
   "cell_type": "code",
   "execution_count": null,
   "metadata": {},
   "outputs": [],
   "source": []
  }
 ],
 "metadata": {
  "kernelspec": {
   "display_name": "Python 3",
   "language": "python",
   "name": "python3"
  },
  "language_info": {
   "codemirror_mode": {
    "name": "ipython",
    "version": 3
   },
   "file_extension": ".py",
   "mimetype": "text/x-python",
   "name": "python",
   "nbconvert_exporter": "python",
   "pygments_lexer": "ipython3",
   "version": "3.7.0"
  }
 },
 "nbformat": 4,
 "nbformat_minor": 2
}
